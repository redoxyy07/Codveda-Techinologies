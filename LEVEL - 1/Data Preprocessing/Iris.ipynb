{
 "cells": [
  {
   "cell_type": "markdown",
   "id": "73bedc68-3f33-40a0-8d7d-ccc65f0ddd20",
   "metadata": {},
   "source": [
    "# Task 1 : Data Cleaning & Preprocessing"
   ]
  },
  {
   "cell_type": "markdown",
   "id": "6b575f3a-5630-4cd7-ac79-9075111ed0d0",
   "metadata": {},
   "source": [
    "## Objectives :\n",
    "    - Load the dataset using Pandas.\n",
    "    - Identify and handle missing values (e.g., Imputation or removal )\n",
    "    - Remove duplicate rows & standardize inconsistent data formats."
   ]
  },
  {
   "cell_type": "markdown",
   "id": "093be72f-9ab2-4df0-99a0-c13eeb761d28",
   "metadata": {},
   "source": [
    "#### 1. Importing Libraries"
   ]
  },
  {
   "cell_type": "code",
   "execution_count": 1,
   "id": "2088aa24-8d43-4a42-a0b3-a00ad40520c1",
   "metadata": {},
   "outputs": [],
   "source": [
    "import pandas as pd"
   ]
  },
  {
   "cell_type": "markdown",
   "id": "9a7e9e3a-b449-4c51-852a-410d47baadc9",
   "metadata": {},
   "source": [
    "#### 2. Reading the CSV file"
   ]
  },
  {
   "cell_type": "code",
   "execution_count": 3,
   "id": "a37e85c7-b372-4850-8c7c-23b001d81735",
   "metadata": {},
   "outputs": [
    {
     "name": "stdout",
     "output_type": "stream",
     "text": [
      "     sepal_length  sepal_width  petal_length  petal_width    species\n",
      "0             5.1          3.5           1.4          0.2     setosa\n",
      "1             4.9          3.0           1.4          0.2     setosa\n",
      "2             4.7          3.2           1.3          0.2     setosa\n",
      "3             4.6          3.1           1.5          0.2     setosa\n",
      "4             5.0          3.6           1.4          0.2     setosa\n",
      "..            ...          ...           ...          ...        ...\n",
      "145           6.7          3.0           5.2          2.3  virginica\n",
      "146           6.3          2.5           5.0          1.9  virginica\n",
      "147           6.5          3.0           5.2          2.0  virginica\n",
      "148           6.2          3.4           5.4          2.3  virginica\n",
      "149           5.9          3.0           5.1          1.8  virginica\n",
      "\n",
      "[150 rows x 5 columns]\n"
     ]
    }
   ],
   "source": [
    "a = pd.read_csv(r\"C:\\Users\\Rudra Pratap Swain\\OneDrive\\Desktop\\CodVeda\\DATASETS\\1) iris.csv\")\n",
    "print(a)"
   ]
  },
  {
   "cell_type": "markdown",
   "id": "c1c3fa02-534f-4537-9b9b-831ea0a02001",
   "metadata": {},
   "source": [
    "#### 3. Checking null values"
   ]
  },
  {
   "cell_type": "code",
   "execution_count": 5,
   "id": "72fa7048-9f93-4e52-9edf-3e7ffdf2d26f",
   "metadata": {},
   "outputs": [
    {
     "data": {
      "text/plain": [
       "sepal_length    0\n",
       "sepal_width     0\n",
       "petal_length    0\n",
       "petal_width     0\n",
       "species         0\n",
       "dtype: int64"
      ]
     },
     "execution_count": 5,
     "metadata": {},
     "output_type": "execute_result"
    }
   ],
   "source": [
    "a.isnull().sum()"
   ]
  },
  {
   "cell_type": "markdown",
   "id": "fbf77b91-6a07-4c29-ba86-5f8ecacd2428",
   "metadata": {},
   "source": [
    "#### 4. Verifying Data Types"
   ]
  },
  {
   "cell_type": "code",
   "execution_count": 7,
   "id": "ba55eaff-00b2-4e70-a32b-e2978b8ed7c2",
   "metadata": {},
   "outputs": [
    {
     "data": {
      "text/plain": [
       "sepal_length    float64\n",
       "sepal_width     float64\n",
       "petal_length    float64\n",
       "petal_width     float64\n",
       "species          object\n",
       "dtype: object"
      ]
     },
     "execution_count": 7,
     "metadata": {},
     "output_type": "execute_result"
    }
   ],
   "source": [
    "a.dtypes"
   ]
  },
  {
   "cell_type": "markdown",
   "id": "bd2e999e-444e-47ce-8881-894caf8ec0ec",
   "metadata": {},
   "source": [
    "#### 5. Checking Unique Values"
   ]
  },
  {
   "cell_type": "code",
   "execution_count": 10,
   "id": "c733155d-d382-4b2a-9a34-8f9d7909db68",
   "metadata": {},
   "outputs": [
    {
     "name": "stdout",
     "output_type": "stream",
     "text": [
      "sepal_length  : \n",
      "  [5.1 4.9 4.7 4.6 5.  5.4 4.4 4.8 4.3 5.8 5.7 5.2 5.5 4.5 5.3 7.  6.4 6.9\n",
      " 6.5 6.3 6.6 5.9 6.  6.1 5.6 6.7 6.2 6.8 7.1 7.6 7.3 7.2 7.7 7.4 7.9]\n",
      "sepal_width  : \n",
      "  [3.5 3.  3.2 3.1 3.6 3.9 3.4 2.9 3.7 4.  4.4 3.8 3.3 4.1 4.2 2.3 2.8 2.4\n",
      " 2.7 2.  2.2 2.5 2.6]\n",
      "petal_length  : \n",
      "  [1.4 1.3 1.5 1.7 1.6 1.1 1.2 1.  1.9 4.7 4.5 4.9 4.  4.6 3.3 3.9 3.5 4.2\n",
      " 3.6 4.4 4.1 4.8 4.3 5.  3.8 3.7 5.1 3.  6.  5.9 5.6 5.8 6.6 6.3 6.1 5.3\n",
      " 5.5 6.7 6.9 5.7 6.4 5.4 5.2]\n",
      "petal_width  : \n",
      "  [0.2 0.4 0.3 0.1 0.5 0.6 1.4 1.5 1.3 1.6 1.  1.1 1.8 1.2 1.7 2.5 1.9 2.1\n",
      " 2.2 2.  2.4 2.3]\n",
      "species  : \n",
      "  ['setosa' 'versicolor' 'virginica']\n"
     ]
    }
   ],
   "source": [
    "for i in a.columns :\n",
    "    print(i,' : \\n ',a[i].unique())"
   ]
  },
  {
   "cell_type": "markdown",
   "id": "2bf19324-c9dc-4467-8d90-f8b93966fffa",
   "metadata": {},
   "source": [
    "#### 6. Dataset Describing"
   ]
  },
  {
   "cell_type": "code",
   "execution_count": 16,
   "id": "12ea3e8f-f0a4-4be8-a66f-1817ac067126",
   "metadata": {},
   "outputs": [
    {
     "data": {
      "text/html": [
       "<div>\n",
       "<style scoped>\n",
       "    .dataframe tbody tr th:only-of-type {\n",
       "        vertical-align: middle;\n",
       "    }\n",
       "\n",
       "    .dataframe tbody tr th {\n",
       "        vertical-align: top;\n",
       "    }\n",
       "\n",
       "    .dataframe thead th {\n",
       "        text-align: right;\n",
       "    }\n",
       "</style>\n",
       "<table border=\"1\" class=\"dataframe\">\n",
       "  <thead>\n",
       "    <tr style=\"text-align: right;\">\n",
       "      <th></th>\n",
       "      <th>sepal_length</th>\n",
       "      <th>sepal_width</th>\n",
       "      <th>petal_length</th>\n",
       "      <th>petal_width</th>\n",
       "    </tr>\n",
       "  </thead>\n",
       "  <tbody>\n",
       "    <tr>\n",
       "      <th>count</th>\n",
       "      <td>150.000000</td>\n",
       "      <td>150.000000</td>\n",
       "      <td>150.000000</td>\n",
       "      <td>150.000000</td>\n",
       "    </tr>\n",
       "    <tr>\n",
       "      <th>mean</th>\n",
       "      <td>5.843333</td>\n",
       "      <td>3.054000</td>\n",
       "      <td>3.758667</td>\n",
       "      <td>1.198667</td>\n",
       "    </tr>\n",
       "    <tr>\n",
       "      <th>std</th>\n",
       "      <td>0.828066</td>\n",
       "      <td>0.433594</td>\n",
       "      <td>1.764420</td>\n",
       "      <td>0.763161</td>\n",
       "    </tr>\n",
       "    <tr>\n",
       "      <th>min</th>\n",
       "      <td>4.300000</td>\n",
       "      <td>2.000000</td>\n",
       "      <td>1.000000</td>\n",
       "      <td>0.100000</td>\n",
       "    </tr>\n",
       "    <tr>\n",
       "      <th>25%</th>\n",
       "      <td>5.100000</td>\n",
       "      <td>2.800000</td>\n",
       "      <td>1.600000</td>\n",
       "      <td>0.300000</td>\n",
       "    </tr>\n",
       "    <tr>\n",
       "      <th>50%</th>\n",
       "      <td>5.800000</td>\n",
       "      <td>3.000000</td>\n",
       "      <td>4.350000</td>\n",
       "      <td>1.300000</td>\n",
       "    </tr>\n",
       "    <tr>\n",
       "      <th>75%</th>\n",
       "      <td>6.400000</td>\n",
       "      <td>3.300000</td>\n",
       "      <td>5.100000</td>\n",
       "      <td>1.800000</td>\n",
       "    </tr>\n",
       "    <tr>\n",
       "      <th>max</th>\n",
       "      <td>7.900000</td>\n",
       "      <td>4.400000</td>\n",
       "      <td>6.900000</td>\n",
       "      <td>2.500000</td>\n",
       "    </tr>\n",
       "  </tbody>\n",
       "</table>\n",
       "</div>"
      ],
      "text/plain": [
       "       sepal_length  sepal_width  petal_length  petal_width\n",
       "count    150.000000   150.000000    150.000000   150.000000\n",
       "mean       5.843333     3.054000      3.758667     1.198667\n",
       "std        0.828066     0.433594      1.764420     0.763161\n",
       "min        4.300000     2.000000      1.000000     0.100000\n",
       "25%        5.100000     2.800000      1.600000     0.300000\n",
       "50%        5.800000     3.000000      4.350000     1.300000\n",
       "75%        6.400000     3.300000      5.100000     1.800000\n",
       "max        7.900000     4.400000      6.900000     2.500000"
      ]
     },
     "execution_count": 16,
     "metadata": {},
     "output_type": "execute_result"
    }
   ],
   "source": [
    "a.describe()"
   ]
  },
  {
   "cell_type": "markdown",
   "id": "cc0582d7-2d00-4805-bc09-cf1fc162a6ed",
   "metadata": {},
   "source": [
    "#### 7. Dataset Info"
   ]
  },
  {
   "cell_type": "code",
   "execution_count": 19,
   "id": "b15f44fe-88c9-42bc-9437-b60951f9a078",
   "metadata": {},
   "outputs": [
    {
     "name": "stdout",
     "output_type": "stream",
     "text": [
      "<class 'pandas.core.frame.DataFrame'>\n",
      "RangeIndex: 150 entries, 0 to 149\n",
      "Data columns (total 5 columns):\n",
      " #   Column        Non-Null Count  Dtype  \n",
      "---  ------        --------------  -----  \n",
      " 0   sepal_length  150 non-null    float64\n",
      " 1   sepal_width   150 non-null    float64\n",
      " 2   petal_length  150 non-null    float64\n",
      " 3   petal_width   150 non-null    float64\n",
      " 4   species       150 non-null    object \n",
      "dtypes: float64(4), object(1)\n",
      "memory usage: 6.0+ KB\n"
     ]
    }
   ],
   "source": [
    "a.info()"
   ]
  },
  {
   "cell_type": "markdown",
   "id": "0f90b47f-9484-4b3d-8085-fcd1d21a8eef",
   "metadata": {},
   "source": [
    "#### 8. Encoding the Categorical Values (Label Encoder)\n",
    "    - Label Encoder is used to encode categorical values into numerical values.\n",
    "    - As because ML Models cannot work with text values, they can only work with numerical values."
   ]
  },
  {
   "cell_type": "code",
   "execution_count": 22,
   "id": "a9d28081-5eb5-4e75-881f-d927e3d0e215",
   "metadata": {},
   "outputs": [],
   "source": [
    "from sklearn.preprocessing import LabelEncoder"
   ]
  },
  {
   "cell_type": "code",
   "execution_count": 23,
   "id": "b264c2ae-66cf-4a23-8020-5b4b7a109cde",
   "metadata": {},
   "outputs": [],
   "source": [
    "le = LabelEncoder()\n",
    "a['species'] = le.fit_transform(a['species'])"
   ]
  },
  {
   "cell_type": "code",
   "execution_count": 24,
   "id": "20f0fab6-a654-4040-8ee0-401156fd5079",
   "metadata": {},
   "outputs": [
    {
     "data": {
      "text/plain": [
       "array([0, 1, 2])"
      ]
     },
     "execution_count": 24,
     "metadata": {},
     "output_type": "execute_result"
    }
   ],
   "source": [
    "a['species'].unique()"
   ]
  },
  {
   "cell_type": "markdown",
   "id": "acf21027-7563-4690-8991-ae1a8349901c",
   "metadata": {},
   "source": [
    "#### 9. Standardize the Numerical Values\n",
    "    - Standard Scaler is basically used to standardize the numerical feature to have a mean=0 and standard deviation=1.\n",
    "    - It helps to prevent features with larger ranges from dominating other features.\n",
    "    - It ensures that each feature contribute equally."
   ]
  },
  {
   "cell_type": "code",
   "execution_count": 29,
   "id": "363ffbf7-06c5-49ef-b34a-d54c0e3ab349",
   "metadata": {},
   "outputs": [],
   "source": [
    "from sklearn.preprocessing import StandardScaler"
   ]
  },
  {
   "cell_type": "code",
   "execution_count": 31,
   "id": "02bf37f2-ab63-47d8-9b12-2ece2b10f89b",
   "metadata": {},
   "outputs": [],
   "source": [
    "sc = StandardScaler()\n",
    "\n",
    "a_num = a[['sepal_length','sepal_width','petal_length','petal_width']]\n",
    "\n",
    "a_scaled = sc.fit_transform(a_num)"
   ]
  },
  {
   "cell_type": "code",
   "execution_count": 33,
   "id": "d048f42c-a5c8-4971-8104-700f19d2f275",
   "metadata": {},
   "outputs": [],
   "source": [
    "a_f = pd.DataFrame(a_scaled, columns = a_num.columns, index=a_num.index)"
   ]
  },
  {
   "cell_type": "markdown",
   "id": "e6fc21f1-ba71-46a4-8986-5323cc918d13",
   "metadata": {},
   "source": [
    "#### 10. Final Dataset"
   ]
  },
  {
   "cell_type": "code",
   "execution_count": 37,
   "id": "47a0ab18-3dbd-42d9-b90d-42e1e583fa5b",
   "metadata": {},
   "outputs": [],
   "source": [
    "a_final = pd.concat([a['species'],a_f],axis=1)"
   ]
  },
  {
   "cell_type": "markdown",
   "id": "7d845e1f-1ce5-4414-8cd8-d5ea9ae962c5",
   "metadata": {},
   "source": [
    "### 11. Final Verification"
   ]
  },
  {
   "cell_type": "code",
   "execution_count": 40,
   "id": "3c8387cc-09fa-4dfd-83e1-5c32d743f1f1",
   "metadata": {},
   "outputs": [
    {
     "name": "stdout",
     "output_type": "stream",
     "text": [
      "     species  sepal_length  sepal_width  petal_length  petal_width\n",
      "0          0     -0.900681     1.032057     -1.341272    -1.312977\n",
      "1          0     -1.143017    -0.124958     -1.341272    -1.312977\n",
      "2          0     -1.385353     0.337848     -1.398138    -1.312977\n",
      "3          0     -1.506521     0.106445     -1.284407    -1.312977\n",
      "4          0     -1.021849     1.263460     -1.341272    -1.312977\n",
      "..       ...           ...          ...           ...          ...\n",
      "145        2      1.038005    -0.124958      0.819624     1.447956\n",
      "146        2      0.553333    -1.281972      0.705893     0.922064\n",
      "147        2      0.795669    -0.124958      0.819624     1.053537\n",
      "148        2      0.432165     0.800654      0.933356     1.447956\n",
      "149        2      0.068662    -0.124958      0.762759     0.790591\n",
      "\n",
      "[150 rows x 5 columns]\n"
     ]
    }
   ],
   "source": [
    "print(a_final)"
   ]
  },
  {
   "cell_type": "code",
   "execution_count": 43,
   "id": "74e23dd4-d696-4ee7-8c03-b819c6070e36",
   "metadata": {},
   "outputs": [],
   "source": [
    "a_final.to_csv('Cleaned Iris Dataset.csv', index=False)"
   ]
  },
  {
   "cell_type": "code",
   "execution_count": null,
   "id": "3db6ec73-39be-4f33-bcc9-eeee00e0386e",
   "metadata": {},
   "outputs": [],
   "source": []
  }
 ],
 "metadata": {
  "kernelspec": {
   "display_name": "Python [conda env:base] *",
   "language": "python",
   "name": "conda-base-py"
  },
  "language_info": {
   "codemirror_mode": {
    "name": "ipython",
    "version": 3
   },
   "file_extension": ".py",
   "mimetype": "text/x-python",
   "name": "python",
   "nbconvert_exporter": "python",
   "pygments_lexer": "ipython3",
   "version": "3.12.7"
  }
 },
 "nbformat": 4,
 "nbformat_minor": 5
}
