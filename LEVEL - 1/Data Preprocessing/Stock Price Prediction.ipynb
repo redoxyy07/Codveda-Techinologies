{
 "cells": [
  {
   "cell_type": "markdown",
   "id": "42bd40b5-b74d-448a-ae2c-f16efe59837f",
   "metadata": {},
   "source": [
    "# Task 1 : Data Cleaning & Preprocessing"
   ]
  },
  {
   "cell_type": "markdown",
   "id": "aa9bba0f-60a2-40f3-b818-40363c938807",
   "metadata": {},
   "source": [
    "## Objectives :\n",
    "    - Load the dataset using Pandas.\n",
    "    - Identify and handle missong values.\n",
    "    - Remove duplicate rows & standardize inconsistent data formats."
   ]
  },
  {
   "cell_type": "markdown",
   "id": "1a4fcba9-6fc6-4beb-8aba-1f557b571939",
   "metadata": {},
   "source": [
    "### 1. Importing Libraries"
   ]
  },
  {
   "cell_type": "code",
   "execution_count": 12,
   "id": "2b675ba4-b463-43e9-8846-cc903a4bc4f7",
   "metadata": {},
   "outputs": [],
   "source": [
    "import pandas as pd"
   ]
  },
  {
   "cell_type": "markdown",
   "id": "ebcff17e-22b1-4aa3-8ee9-9711835156a0",
   "metadata": {},
   "source": [
    "### 2. Reading the CSV file"
   ]
  },
  {
   "cell_type": "code",
   "execution_count": 15,
   "id": "ce35e6ac-d96b-487e-b0aa-2c6a6c7d356d",
   "metadata": {},
   "outputs": [],
   "source": [
    "a = pd.read_csv(r\"C:\\Users\\Rudra Pratap Swain\\OneDrive\\Desktop\\CodVeda\\DATASETS\\2) Stock Prices Data Set.csv\")"
   ]
  },
  {
   "cell_type": "code",
   "execution_count": 17,
   "id": "9e3a9bc6-36cb-4cbe-b28f-7dbb127d883e",
   "metadata": {},
   "outputs": [
    {
     "data": {
      "text/html": [
       "<div>\n",
       "<style scoped>\n",
       "    .dataframe tbody tr th:only-of-type {\n",
       "        vertical-align: middle;\n",
       "    }\n",
       "\n",
       "    .dataframe tbody tr th {\n",
       "        vertical-align: top;\n",
       "    }\n",
       "\n",
       "    .dataframe thead th {\n",
       "        text-align: right;\n",
       "    }\n",
       "</style>\n",
       "<table border=\"1\" class=\"dataframe\">\n",
       "  <thead>\n",
       "    <tr style=\"text-align: right;\">\n",
       "      <th></th>\n",
       "      <th>symbol</th>\n",
       "      <th>date</th>\n",
       "      <th>open</th>\n",
       "      <th>high</th>\n",
       "      <th>low</th>\n",
       "      <th>close</th>\n",
       "      <th>volume</th>\n",
       "    </tr>\n",
       "  </thead>\n",
       "  <tbody>\n",
       "    <tr>\n",
       "      <th>0</th>\n",
       "      <td>AAL</td>\n",
       "      <td>2014-01-02</td>\n",
       "      <td>25.0700</td>\n",
       "      <td>25.8200</td>\n",
       "      <td>25.0600</td>\n",
       "      <td>25.3600</td>\n",
       "      <td>8998943</td>\n",
       "    </tr>\n",
       "    <tr>\n",
       "      <th>1</th>\n",
       "      <td>AAPL</td>\n",
       "      <td>2014-01-02</td>\n",
       "      <td>79.3828</td>\n",
       "      <td>79.5756</td>\n",
       "      <td>78.8601</td>\n",
       "      <td>79.0185</td>\n",
       "      <td>58791957</td>\n",
       "    </tr>\n",
       "    <tr>\n",
       "      <th>2</th>\n",
       "      <td>AAP</td>\n",
       "      <td>2014-01-02</td>\n",
       "      <td>110.3600</td>\n",
       "      <td>111.8800</td>\n",
       "      <td>109.2900</td>\n",
       "      <td>109.7400</td>\n",
       "      <td>542711</td>\n",
       "    </tr>\n",
       "    <tr>\n",
       "      <th>3</th>\n",
       "      <td>ABBV</td>\n",
       "      <td>2014-01-02</td>\n",
       "      <td>52.1200</td>\n",
       "      <td>52.3300</td>\n",
       "      <td>51.5200</td>\n",
       "      <td>51.9800</td>\n",
       "      <td>4569061</td>\n",
       "    </tr>\n",
       "    <tr>\n",
       "      <th>4</th>\n",
       "      <td>ABC</td>\n",
       "      <td>2014-01-02</td>\n",
       "      <td>70.1100</td>\n",
       "      <td>70.2300</td>\n",
       "      <td>69.4800</td>\n",
       "      <td>69.8900</td>\n",
       "      <td>1148391</td>\n",
       "    </tr>\n",
       "  </tbody>\n",
       "</table>\n",
       "</div>"
      ],
      "text/plain": [
       "  symbol        date      open      high       low     close    volume\n",
       "0    AAL  2014-01-02   25.0700   25.8200   25.0600   25.3600   8998943\n",
       "1   AAPL  2014-01-02   79.3828   79.5756   78.8601   79.0185  58791957\n",
       "2    AAP  2014-01-02  110.3600  111.8800  109.2900  109.7400    542711\n",
       "3   ABBV  2014-01-02   52.1200   52.3300   51.5200   51.9800   4569061\n",
       "4    ABC  2014-01-02   70.1100   70.2300   69.4800   69.8900   1148391"
      ]
     },
     "execution_count": 17,
     "metadata": {},
     "output_type": "execute_result"
    }
   ],
   "source": [
    "a.head()"
   ]
  },
  {
   "cell_type": "markdown",
   "id": "b892afe5-78e4-4426-8725-e11f0cc54386",
   "metadata": {},
   "source": [
    "### 3. Checking Null Values"
   ]
  },
  {
   "cell_type": "code",
   "execution_count": 20,
   "id": "a1537b7d-6a2e-4444-bb3d-b26c5c99c81a",
   "metadata": {},
   "outputs": [
    {
     "data": {
      "text/plain": [
       "symbol     0\n",
       "date       0\n",
       "open      11\n",
       "high       8\n",
       "low        8\n",
       "close      0\n",
       "volume     0\n",
       "dtype: int64"
      ]
     },
     "execution_count": 20,
     "metadata": {},
     "output_type": "execute_result"
    }
   ],
   "source": [
    "a.isnull().sum()"
   ]
  },
  {
   "cell_type": "markdown",
   "id": "0e1a7c5a-50fa-48a9-aa2f-d5ba5d3c46d5",
   "metadata": {},
   "source": [
    "##### As there are some null values present we will imputate them by their mean values"
   ]
  },
  {
   "cell_type": "code",
   "execution_count": 23,
   "id": "63bfb5a7-c93d-4ddf-bb08-38f253a9cdc4",
   "metadata": {},
   "outputs": [
    {
     "data": {
      "text/html": [
       "<div>\n",
       "<style scoped>\n",
       "    .dataframe tbody tr th:only-of-type {\n",
       "        vertical-align: middle;\n",
       "    }\n",
       "\n",
       "    .dataframe tbody tr th {\n",
       "        vertical-align: top;\n",
       "    }\n",
       "\n",
       "    .dataframe thead th {\n",
       "        text-align: right;\n",
       "    }\n",
       "</style>\n",
       "<table border=\"1\" class=\"dataframe\">\n",
       "  <thead>\n",
       "    <tr style=\"text-align: right;\">\n",
       "      <th></th>\n",
       "      <th>symbol</th>\n",
       "      <th>date</th>\n",
       "      <th>open</th>\n",
       "      <th>high</th>\n",
       "      <th>low</th>\n",
       "      <th>close</th>\n",
       "      <th>volume</th>\n",
       "    </tr>\n",
       "  </thead>\n",
       "  <tbody>\n",
       "    <tr>\n",
       "      <th>count</th>\n",
       "      <td>497472</td>\n",
       "      <td>497472</td>\n",
       "      <td>497461.000000</td>\n",
       "      <td>497464.000000</td>\n",
       "      <td>497464.000000</td>\n",
       "      <td>497472.000000</td>\n",
       "      <td>4.974720e+05</td>\n",
       "    </tr>\n",
       "    <tr>\n",
       "      <th>unique</th>\n",
       "      <td>505</td>\n",
       "      <td>1007</td>\n",
       "      <td>NaN</td>\n",
       "      <td>NaN</td>\n",
       "      <td>NaN</td>\n",
       "      <td>NaN</td>\n",
       "      <td>NaN</td>\n",
       "    </tr>\n",
       "    <tr>\n",
       "      <th>top</th>\n",
       "      <td>AAL</td>\n",
       "      <td>2017-12-29</td>\n",
       "      <td>NaN</td>\n",
       "      <td>NaN</td>\n",
       "      <td>NaN</td>\n",
       "      <td>NaN</td>\n",
       "      <td>NaN</td>\n",
       "    </tr>\n",
       "    <tr>\n",
       "      <th>freq</th>\n",
       "      <td>1007</td>\n",
       "      <td>505</td>\n",
       "      <td>NaN</td>\n",
       "      <td>NaN</td>\n",
       "      <td>NaN</td>\n",
       "      <td>NaN</td>\n",
       "      <td>NaN</td>\n",
       "    </tr>\n",
       "    <tr>\n",
       "      <th>mean</th>\n",
       "      <td>NaN</td>\n",
       "      <td>NaN</td>\n",
       "      <td>86.352275</td>\n",
       "      <td>87.132562</td>\n",
       "      <td>85.552467</td>\n",
       "      <td>86.369082</td>\n",
       "      <td>4.253611e+06</td>\n",
       "    </tr>\n",
       "    <tr>\n",
       "      <th>std</th>\n",
       "      <td>NaN</td>\n",
       "      <td>NaN</td>\n",
       "      <td>101.471228</td>\n",
       "      <td>102.312062</td>\n",
       "      <td>100.570957</td>\n",
       "      <td>101.472407</td>\n",
       "      <td>8.232139e+06</td>\n",
       "    </tr>\n",
       "    <tr>\n",
       "      <th>min</th>\n",
       "      <td>NaN</td>\n",
       "      <td>NaN</td>\n",
       "      <td>1.620000</td>\n",
       "      <td>1.690000</td>\n",
       "      <td>1.500000</td>\n",
       "      <td>1.590000</td>\n",
       "      <td>0.000000e+00</td>\n",
       "    </tr>\n",
       "    <tr>\n",
       "      <th>25%</th>\n",
       "      <td>NaN</td>\n",
       "      <td>NaN</td>\n",
       "      <td>41.690000</td>\n",
       "      <td>42.090000</td>\n",
       "      <td>41.280000</td>\n",
       "      <td>41.703750</td>\n",
       "      <td>1.080166e+06</td>\n",
       "    </tr>\n",
       "    <tr>\n",
       "      <th>50%</th>\n",
       "      <td>NaN</td>\n",
       "      <td>NaN</td>\n",
       "      <td>64.970000</td>\n",
       "      <td>65.560000</td>\n",
       "      <td>64.353700</td>\n",
       "      <td>64.980000</td>\n",
       "      <td>2.084896e+06</td>\n",
       "    </tr>\n",
       "    <tr>\n",
       "      <th>75%</th>\n",
       "      <td>NaN</td>\n",
       "      <td>NaN</td>\n",
       "      <td>98.410000</td>\n",
       "      <td>99.230000</td>\n",
       "      <td>97.580000</td>\n",
       "      <td>98.420000</td>\n",
       "      <td>4.271928e+06</td>\n",
       "    </tr>\n",
       "    <tr>\n",
       "      <th>max</th>\n",
       "      <td>NaN</td>\n",
       "      <td>NaN</td>\n",
       "      <td>2044.000000</td>\n",
       "      <td>2067.990000</td>\n",
       "      <td>2035.110000</td>\n",
       "      <td>2049.000000</td>\n",
       "      <td>6.182376e+08</td>\n",
       "    </tr>\n",
       "  </tbody>\n",
       "</table>\n",
       "</div>"
      ],
      "text/plain": [
       "        symbol        date           open           high            low  \\\n",
       "count   497472      497472  497461.000000  497464.000000  497464.000000   \n",
       "unique     505        1007            NaN            NaN            NaN   \n",
       "top        AAL  2017-12-29            NaN            NaN            NaN   \n",
       "freq      1007         505            NaN            NaN            NaN   \n",
       "mean       NaN         NaN      86.352275      87.132562      85.552467   \n",
       "std        NaN         NaN     101.471228     102.312062     100.570957   \n",
       "min        NaN         NaN       1.620000       1.690000       1.500000   \n",
       "25%        NaN         NaN      41.690000      42.090000      41.280000   \n",
       "50%        NaN         NaN      64.970000      65.560000      64.353700   \n",
       "75%        NaN         NaN      98.410000      99.230000      97.580000   \n",
       "max        NaN         NaN    2044.000000    2067.990000    2035.110000   \n",
       "\n",
       "                close        volume  \n",
       "count   497472.000000  4.974720e+05  \n",
       "unique            NaN           NaN  \n",
       "top               NaN           NaN  \n",
       "freq              NaN           NaN  \n",
       "mean        86.369082  4.253611e+06  \n",
       "std        101.472407  8.232139e+06  \n",
       "min          1.590000  0.000000e+00  \n",
       "25%         41.703750  1.080166e+06  \n",
       "50%         64.980000  2.084896e+06  \n",
       "75%         98.420000  4.271928e+06  \n",
       "max       2049.000000  6.182376e+08  "
      ]
     },
     "execution_count": 23,
     "metadata": {},
     "output_type": "execute_result"
    }
   ],
   "source": [
    "a.describe(include='all')"
   ]
  },
  {
   "cell_type": "code",
   "execution_count": 25,
   "id": "6fdbd16b-b22f-474a-ab21-5011411e32c2",
   "metadata": {},
   "outputs": [],
   "source": [
    "a['open'] = a['open'].fillna(86.352275)"
   ]
  },
  {
   "cell_type": "code",
   "execution_count": 27,
   "id": "fbd0833e-85df-49c8-8161-27b0b1e5766a",
   "metadata": {},
   "outputs": [],
   "source": [
    "a['high'] = a['high'].fillna(87.132562)"
   ]
  },
  {
   "cell_type": "code",
   "execution_count": 29,
   "id": "c85ac0c7-8326-44d1-94a3-2841e01c37d3",
   "metadata": {},
   "outputs": [],
   "source": [
    "a['low'] = a['low'].fillna(85.552467)"
   ]
  },
  {
   "cell_type": "code",
   "execution_count": 31,
   "id": "06997136-3d07-4a2b-b59d-f422ca67a3c1",
   "metadata": {},
   "outputs": [
    {
     "data": {
      "text/plain": [
       "symbol    0\n",
       "date      0\n",
       "open      0\n",
       "high      0\n",
       "low       0\n",
       "close     0\n",
       "volume    0\n",
       "dtype: int64"
      ]
     },
     "execution_count": 31,
     "metadata": {},
     "output_type": "execute_result"
    }
   ],
   "source": [
    "a.isnull().sum()"
   ]
  },
  {
   "cell_type": "markdown",
   "id": "750d4e65-9312-4e46-9ed0-9360616e0630",
   "metadata": {},
   "source": [
    "### 4. Verifying the Data Types"
   ]
  },
  {
   "cell_type": "code",
   "execution_count": 34,
   "id": "f03cb0b5-be58-4c5c-a772-a2cbd76e5825",
   "metadata": {},
   "outputs": [
    {
     "data": {
      "text/plain": [
       "symbol     object\n",
       "date       object\n",
       "open      float64\n",
       "high      float64\n",
       "low       float64\n",
       "close     float64\n",
       "volume      int64\n",
       "dtype: object"
      ]
     },
     "execution_count": 34,
     "metadata": {},
     "output_type": "execute_result"
    }
   ],
   "source": [
    "a.dtypes"
   ]
  },
  {
   "cell_type": "markdown",
   "id": "69b39b30-cf51-4a99-8e13-a88a5ea49918",
   "metadata": {},
   "source": [
    "### 5. Checking Unique values"
   ]
  },
  {
   "cell_type": "code",
   "execution_count": 37,
   "id": "87c1e883-cef6-4013-827b-f7f067410b91",
   "metadata": {
    "scrolled": true
   },
   "outputs": [
    {
     "name": "stdout",
     "output_type": "stream",
     "text": [
      "symbol  : \n",
      "  ['AAL' 'AAPL' 'AAP' 'ABBV' 'ABC' 'ABT' 'ACN' 'ADBE' 'ADI' 'ADM' 'ADP'\n",
      " 'ADSK' 'ADS' 'AEE' 'AEP' 'AES' 'AET' 'AFL' 'AGN' 'AIG' 'AIV' 'AIZ' 'AJG'\n",
      " 'AKAM' 'ALB' 'ALGN' 'ALK' 'ALLE' 'ALL' 'ALXN' 'AMAT' 'AMD' 'AME' 'AMGN'\n",
      " 'AMG' 'AMP' 'AMT' 'AMZN' 'ANDV' 'ANSS' 'ANTM' 'AON' 'AOS' 'APA' 'APC'\n",
      " 'APD' 'APH' 'ARE' 'ARNC' 'ATVI' 'AVB' 'AVGO' 'AVY' 'AWK' 'AXP' 'AYI'\n",
      " 'AZO' 'A' 'BAC' 'BAX' 'BA' 'BBT' 'BBY' 'BDX' 'BEN' 'BF.B' 'BIIB' 'BK'\n",
      " 'BLK' 'BLL' 'BMY' 'BRK.B' 'BSX' 'BWA' 'BXP' 'CAG' 'CAH' 'CAT' 'CA' 'CBG'\n",
      " 'CBOE' 'CBS' 'CB' 'CCI' 'CCL' 'CDNS' 'CELG' 'CERN' 'CF' 'CHD' 'CHK'\n",
      " 'CHRW' 'CHTR' 'CINF' 'CI' 'CLX' 'CL' 'CMA' 'CMCSA' 'CME' 'CMG' 'CMI'\n",
      " 'CMS' 'CNC' 'CNP' 'COF' 'COG' 'COL' 'COO' 'COP' 'COST' 'COTY' 'CPB' 'CRM'\n",
      " 'CSCO' 'CSX' 'CTAS' 'CTL' 'CTSH' 'CTXS' 'CVS' 'CVX' 'CXO' 'C' 'DAL' 'DE'\n",
      " 'DFS' 'DGX' 'DG' 'DHI' 'DHR' 'DISCA' 'DISCK' 'DISH' 'DIS' 'DLR' 'DLTR'\n",
      " 'DOV' 'DPS' 'DRE' 'DRI' 'DTE' 'DUK' 'DVA' 'DVN' 'D' 'EA' 'EBAY' 'ECL'\n",
      " 'ED' 'EFX' 'EIX' 'EL' 'EMN' 'EMR' 'EOG' 'EQIX' 'EQR' 'EQT' 'ESRX' 'ESS'\n",
      " 'ES' 'ETFC' 'ETN' 'ETR' 'EW' 'EXC' 'EXPD' 'EXPE' 'EXR' 'FAST' 'FBHS' 'FB'\n",
      " 'FCX' 'FDX' 'FE' 'FFIV' 'FISV' 'FIS' 'FITB' 'FLIR' 'FLR' 'FLS' 'FL' 'FMC'\n",
      " 'FOXA' 'FOX' 'FRT' 'FTI' 'F' 'GD' 'GE' 'GGP' 'GILD' 'GIS' 'GLW' 'GM'\n",
      " 'GOOGL' 'GPC' 'GPN' 'GPS' 'GRMN' 'GS' 'GT' 'GWW' 'HAL' 'HAS' 'HBAN' 'HBI'\n",
      " 'HCA' 'HCN' 'HCP' 'HD' 'HES' 'HIG' 'HII' 'HOG' 'HOLX' 'HON' 'HP' 'HRB'\n",
      " 'HRL' 'HRS' 'HSIC' 'HST' 'HSY' 'HUM' 'IBM' 'ICE' 'IDXX' 'IFF' 'ILMN'\n",
      " 'INCY' 'INTC' 'INTU' 'IPG' 'IP' 'IQV' 'IRM' 'IR' 'ISRG' 'ITW' 'IT' 'IVZ'\n",
      " 'JBHT' 'JCI' 'JEC' 'JNJ' 'JNPR' 'JPM' 'JWN' 'KEY' 'KIM' 'KLAC' 'KMB'\n",
      " 'KMI' 'KMX' 'KORS' 'KO' 'KR' 'KSS' 'KSU' 'K' 'LB' 'LEG' 'LEN' 'LH' 'LKQ'\n",
      " 'LLL' 'LLY' 'LMT' 'LNC' 'LNT' 'LOW' 'LRCX' 'LUK' 'LUV' 'LYB' 'L' 'MAA'\n",
      " 'MAC' 'MAR' 'MAS' 'MAT' 'MA' 'MCD' 'MCHP' 'MCK' 'MCO' 'MDLZ' 'MDT' 'MET'\n",
      " 'MGM' 'MHK' 'MKC' 'MLM' 'MMC' 'MMM' 'MNST' 'MON' 'MOS' 'MO' 'MPC' 'MRK'\n",
      " 'MRO' 'MSFT' 'MSI' 'MS' 'MTB' 'MTD' 'MU' 'MYL' 'M' 'NBL' 'NCLH' 'NDAQ'\n",
      " 'NEE' 'NEM' 'NFLX' 'NFX' 'NI' 'NKE' 'NLSN' 'NOC' 'NOV' 'NRG' 'NSC' 'NTAP'\n",
      " 'NTRS' 'NUE' 'NVDA' 'NWL' 'NWSA' 'NWS' 'OKE' 'OMC' 'ORCL' 'ORLY' 'OXY'\n",
      " 'O' 'PAYX' 'PBCT' 'PCAR' 'PCG' 'PCLN' 'PDCO' 'PEG' 'PEP' 'PFE' 'PFG'\n",
      " 'PGR' 'PG' 'PHM' 'PH' 'PKG' 'PKI' 'PLD' 'PM' 'PNC' 'PNR' 'PNW' 'PPG'\n",
      " 'PPL' 'PRGO' 'PRU' 'PSA' 'PSX' 'PVH' 'PWR' 'PXD' 'PX' 'QCOM' 'RCL' 'REGN'\n",
      " 'REG' 'RE' 'RF' 'RHI' 'RHT' 'RJF' 'RL' 'RMD' 'ROK' 'ROP' 'ROST' 'RRC'\n",
      " 'RSG' 'RTN' 'SBAC' 'SBUX' 'SCG' 'SCHW' 'SEE' 'SHW' 'SIG' 'SJM' 'SLB'\n",
      " 'SLG' 'SNA' 'SNI' 'SNPS' 'SO' 'SPGI' 'SPG' 'SRCL' 'SRE' 'STI' 'STT' 'STX'\n",
      " 'STZ' 'SWKS' 'SWK' 'SYK' 'SYMC' 'SYY' 'TAP' 'TDG' 'TEL' 'TGT' 'TIF' 'TJX'\n",
      " 'TMK' 'TMO' 'TPR' 'TRIP' 'TROW' 'TRV' 'TSCO' 'TSN' 'TSS' 'TWX' 'TXN'\n",
      " 'TXT' 'T' 'UAA' 'UAL' 'UDR' 'UHS' 'ULTA' 'UNH' 'UNM' 'UNP' 'UPS' 'URI'\n",
      " 'USB' 'UTX' 'VAR' 'VFC' 'VIAB' 'VLO' 'VMC' 'VNO' 'VRSK' 'VRSN' 'VRTX'\n",
      " 'VTR' 'VZ' 'V' 'WAT' 'WBA' 'WDC' 'WEC' 'WFC' 'WHR' 'WMB' 'WMT' 'WM' 'WU'\n",
      " 'WYNN' 'WYN' 'WY' 'XEC' 'XEL' 'XLNX' 'XL' 'XOM' 'XRAY' 'XRX' 'XYL' 'YUM'\n",
      " 'ZBH' 'ZION' 'ZTS' 'GOOG' 'NAVI' 'INFO' 'SYF' 'CFG' 'QRVO' 'WRK' 'KHC'\n",
      " 'PYPL' 'HPE' 'HPQ' 'CSRA' 'WLTW' 'UA' 'FTV' 'EVHC' 'HLT' 'DXC' 'BHGE'\n",
      " 'BHF' 'DWDP' 'APTV']\n",
      "date  : \n",
      "  ['2014-01-02' '2014-01-03' '2014-01-06' ... '2017-12-27' '2017-12-28'\n",
      " '2017-12-29']\n",
      "open  : \n",
      "  [ 25.07    79.3828 110.36   ... 261.85   413.8    276.61  ]\n",
      "high  : \n",
      "  [ 25.82    79.5756 111.88   ... 171.6753 152.3124 123.7325]\n",
      "low  : \n",
      "  [ 25.06    78.8601 109.29   ... 274.62    13.2946 168.255 ]\n",
      "close  : \n",
      "  [  25.36     79.0185  109.74   ... 1737.74    375.96    410.04  ]\n",
      "volume  : \n",
      "  [ 8998943 58791957   542711 ...  1023624  1261916  1704122]\n"
     ]
    }
   ],
   "source": [
    "for i in a.columns :\n",
    "    print(i,' : \\n ',a[i].unique())"
   ]
  },
  {
   "cell_type": "markdown",
   "id": "f97f95c6-6f54-4866-a316-bd33252491a5",
   "metadata": {},
   "source": [
    "### 6. Dataset Info"
   ]
  },
  {
   "cell_type": "code",
   "execution_count": 40,
   "id": "b7eb5174-a709-410e-a2e0-df70e25384ce",
   "metadata": {},
   "outputs": [
    {
     "name": "stdout",
     "output_type": "stream",
     "text": [
      "<class 'pandas.core.frame.DataFrame'>\n",
      "RangeIndex: 497472 entries, 0 to 497471\n",
      "Data columns (total 7 columns):\n",
      " #   Column  Non-Null Count   Dtype  \n",
      "---  ------  --------------   -----  \n",
      " 0   symbol  497472 non-null  object \n",
      " 1   date    497472 non-null  object \n",
      " 2   open    497472 non-null  float64\n",
      " 3   high    497472 non-null  float64\n",
      " 4   low     497472 non-null  float64\n",
      " 5   close   497472 non-null  float64\n",
      " 6   volume  497472 non-null  int64  \n",
      "dtypes: float64(4), int64(1), object(2)\n",
      "memory usage: 26.6+ MB\n"
     ]
    }
   ],
   "source": [
    "a.info()"
   ]
  },
  {
   "cell_type": "markdown",
   "id": "40617352-d3e4-4800-a649-0b2c5a9993ad",
   "metadata": {},
   "source": [
    "### 7. Encoding Categorical Features"
   ]
  },
  {
   "cell_type": "markdown",
   "id": "607c3658-8047-4cb7-a797-2199143fec46",
   "metadata": {},
   "source": [
    "#### Label Encoder \n",
    "    - Label Encoder is used to encode the categorical values into numerical values.\n",
    "    - ML Models cannot directly work with text data, therefore we need to encode them into numerical datas."
   ]
  },
  {
   "cell_type": "code",
   "execution_count": 44,
   "id": "3d4d2dc6-d3c2-4c30-811c-af1a92f44628",
   "metadata": {},
   "outputs": [],
   "source": [
    "from sklearn.preprocessing import LabelEncoder"
   ]
  },
  {
   "cell_type": "code",
   "execution_count": 46,
   "id": "c190ded8-bc48-4143-879c-feb08a0add39",
   "metadata": {},
   "outputs": [
    {
     "data": {
      "text/html": [
       "<div>\n",
       "<style scoped>\n",
       "    .dataframe tbody tr th:only-of-type {\n",
       "        vertical-align: middle;\n",
       "    }\n",
       "\n",
       "    .dataframe tbody tr th {\n",
       "        vertical-align: top;\n",
       "    }\n",
       "\n",
       "    .dataframe thead th {\n",
       "        text-align: right;\n",
       "    }\n",
       "</style>\n",
       "<table border=\"1\" class=\"dataframe\">\n",
       "  <thead>\n",
       "    <tr style=\"text-align: right;\">\n",
       "      <th></th>\n",
       "      <th>symbol</th>\n",
       "      <th>date</th>\n",
       "      <th>open</th>\n",
       "      <th>high</th>\n",
       "      <th>low</th>\n",
       "      <th>close</th>\n",
       "      <th>volume</th>\n",
       "    </tr>\n",
       "  </thead>\n",
       "  <tbody>\n",
       "    <tr>\n",
       "      <th>0</th>\n",
       "      <td>1</td>\n",
       "      <td>2014-01-02</td>\n",
       "      <td>25.0700</td>\n",
       "      <td>25.8200</td>\n",
       "      <td>25.0600</td>\n",
       "      <td>25.3600</td>\n",
       "      <td>8998943</td>\n",
       "    </tr>\n",
       "    <tr>\n",
       "      <th>1</th>\n",
       "      <td>3</td>\n",
       "      <td>2014-01-02</td>\n",
       "      <td>79.3828</td>\n",
       "      <td>79.5756</td>\n",
       "      <td>78.8601</td>\n",
       "      <td>79.0185</td>\n",
       "      <td>58791957</td>\n",
       "    </tr>\n",
       "    <tr>\n",
       "      <th>2</th>\n",
       "      <td>2</td>\n",
       "      <td>2014-01-02</td>\n",
       "      <td>110.3600</td>\n",
       "      <td>111.8800</td>\n",
       "      <td>109.2900</td>\n",
       "      <td>109.7400</td>\n",
       "      <td>542711</td>\n",
       "    </tr>\n",
       "    <tr>\n",
       "      <th>3</th>\n",
       "      <td>4</td>\n",
       "      <td>2014-01-02</td>\n",
       "      <td>52.1200</td>\n",
       "      <td>52.3300</td>\n",
       "      <td>51.5200</td>\n",
       "      <td>51.9800</td>\n",
       "      <td>4569061</td>\n",
       "    </tr>\n",
       "    <tr>\n",
       "      <th>4</th>\n",
       "      <td>5</td>\n",
       "      <td>2014-01-02</td>\n",
       "      <td>70.1100</td>\n",
       "      <td>70.2300</td>\n",
       "      <td>69.4800</td>\n",
       "      <td>69.8900</td>\n",
       "      <td>1148391</td>\n",
       "    </tr>\n",
       "  </tbody>\n",
       "</table>\n",
       "</div>"
      ],
      "text/plain": [
       "   symbol        date      open      high       low     close    volume\n",
       "0       1  2014-01-02   25.0700   25.8200   25.0600   25.3600   8998943\n",
       "1       3  2014-01-02   79.3828   79.5756   78.8601   79.0185  58791957\n",
       "2       2  2014-01-02  110.3600  111.8800  109.2900  109.7400    542711\n",
       "3       4  2014-01-02   52.1200   52.3300   51.5200   51.9800   4569061\n",
       "4       5  2014-01-02   70.1100   70.2300   69.4800   69.8900   1148391"
      ]
     },
     "execution_count": 46,
     "metadata": {},
     "output_type": "execute_result"
    }
   ],
   "source": [
    "le = LabelEncoder()\n",
    "\n",
    "a['symbol'] = le.fit_transform(a['symbol'])\n",
    "a.head()"
   ]
  },
  {
   "cell_type": "markdown",
   "id": "143af495-f44b-4a38-95d1-e5dc478cda98",
   "metadata": {},
   "source": [
    "### 8. Standardize the Numerical features"
   ]
  },
  {
   "cell_type": "markdown",
   "id": "5ebb4ea2-2325-42e8-9308-9600b95455f9",
   "metadata": {},
   "source": [
    "#### Standard Scaler\n",
    "    - Standard Scaler is used to standardize the values to have a mean=0 & standard deviation=1.\n",
    "    - It is used to prevent features with large ranges dominating features with smaller ranges.\n",
    "    - It ensures that each feature contribute equally."
   ]
  },
  {
   "cell_type": "code",
   "execution_count": 50,
   "id": "6cf6e8c3-773b-4d48-a34c-8c40d6fc56ed",
   "metadata": {},
   "outputs": [],
   "source": [
    "from sklearn.preprocessing import StandardScaler"
   ]
  },
  {
   "cell_type": "code",
   "execution_count": 52,
   "id": "67aee7f4-d13f-49c6-b5ee-e7859329f1e7",
   "metadata": {},
   "outputs": [],
   "source": [
    "sc = StandardScaler()\n",
    "\n",
    "a_num = a.drop(columns='date')\n",
    "\n",
    "a_scaled = sc.fit_transform(a_num)"
   ]
  },
  {
   "cell_type": "code",
   "execution_count": 54,
   "id": "bf2dc568-38db-48e7-9b0b-89a840498c7a",
   "metadata": {},
   "outputs": [],
   "source": [
    "a_final = pd.DataFrame(a_scaled, columns = a_num.columns, index=a_num.index)"
   ]
  },
  {
   "cell_type": "code",
   "execution_count": 56,
   "id": "ceb8cd13-66e1-4810-adb8-ab76e2e80b0e",
   "metadata": {},
   "outputs": [
    {
     "data": {
      "text/html": [
       "<div>\n",
       "<style scoped>\n",
       "    .dataframe tbody tr th:only-of-type {\n",
       "        vertical-align: middle;\n",
       "    }\n",
       "\n",
       "    .dataframe tbody tr th {\n",
       "        vertical-align: top;\n",
       "    }\n",
       "\n",
       "    .dataframe thead th {\n",
       "        text-align: right;\n",
       "    }\n",
       "</style>\n",
       "<table border=\"1\" class=\"dataframe\">\n",
       "  <thead>\n",
       "    <tr style=\"text-align: right;\">\n",
       "      <th></th>\n",
       "      <th>symbol</th>\n",
       "      <th>open</th>\n",
       "      <th>high</th>\n",
       "      <th>low</th>\n",
       "      <th>close</th>\n",
       "      <th>volume</th>\n",
       "    </tr>\n",
       "  </thead>\n",
       "  <tbody>\n",
       "    <tr>\n",
       "      <th>0</th>\n",
       "      <td>-1.727913</td>\n",
       "      <td>-0.603945</td>\n",
       "      <td>-0.599276</td>\n",
       "      <td>-0.601496</td>\n",
       "      <td>-0.601239</td>\n",
       "      <td>0.576440</td>\n",
       "    </tr>\n",
       "    <tr>\n",
       "      <th>1</th>\n",
       "      <td>-1.714198</td>\n",
       "      <td>-0.068685</td>\n",
       "      <td>-0.073863</td>\n",
       "      <td>-0.066544</td>\n",
       "      <td>-0.072439</td>\n",
       "      <td>6.625058</td>\n",
       "    </tr>\n",
       "    <tr>\n",
       "      <th>2</th>\n",
       "      <td>-1.721055</td>\n",
       "      <td>0.236599</td>\n",
       "      <td>0.241884</td>\n",
       "      <td>0.236030</td>\n",
       "      <td>0.230318</td>\n",
       "      <td>-0.450782</td>\n",
       "    </tr>\n",
       "    <tr>\n",
       "      <th>3</th>\n",
       "      <td>-1.707341</td>\n",
       "      <td>-0.337363</td>\n",
       "      <td>-0.340164</td>\n",
       "      <td>-0.338396</td>\n",
       "      <td>-0.338901</td>\n",
       "      <td>0.038319</td>\n",
       "    </tr>\n",
       "    <tr>\n",
       "      <th>4</th>\n",
       "      <td>-1.700483</td>\n",
       "      <td>-0.160070</td>\n",
       "      <td>-0.165207</td>\n",
       "      <td>-0.159814</td>\n",
       "      <td>-0.162400</td>\n",
       "      <td>-0.377207</td>\n",
       "    </tr>\n",
       "  </tbody>\n",
       "</table>\n",
       "</div>"
      ],
      "text/plain": [
       "     symbol      open      high       low     close    volume\n",
       "0 -1.727913 -0.603945 -0.599276 -0.601496 -0.601239  0.576440\n",
       "1 -1.714198 -0.068685 -0.073863 -0.066544 -0.072439  6.625058\n",
       "2 -1.721055  0.236599  0.241884  0.236030  0.230318 -0.450782\n",
       "3 -1.707341 -0.337363 -0.340164 -0.338396 -0.338901  0.038319\n",
       "4 -1.700483 -0.160070 -0.165207 -0.159814 -0.162400 -0.377207"
      ]
     },
     "execution_count": 56,
     "metadata": {},
     "output_type": "execute_result"
    }
   ],
   "source": [
    "a_final.head()"
   ]
  },
  {
   "cell_type": "markdown",
   "id": "805f2bc1-da50-449b-8738-600a53a7498a",
   "metadata": {},
   "source": [
    "### 9. Final Dataset"
   ]
  },
  {
   "cell_type": "code",
   "execution_count": 58,
   "id": "a2d9dfab-4f4b-4f49-a782-e176a5d70182",
   "metadata": {},
   "outputs": [],
   "source": [
    "a_last = pd.concat([a['date'],a_final],axis=1)"
   ]
  },
  {
   "cell_type": "code",
   "execution_count": 60,
   "id": "0dfb0afd-d2fd-42c0-aeee-5c942ea4fb1b",
   "metadata": {},
   "outputs": [
    {
     "data": {
      "text/html": [
       "<div>\n",
       "<style scoped>\n",
       "    .dataframe tbody tr th:only-of-type {\n",
       "        vertical-align: middle;\n",
       "    }\n",
       "\n",
       "    .dataframe tbody tr th {\n",
       "        vertical-align: top;\n",
       "    }\n",
       "\n",
       "    .dataframe thead th {\n",
       "        text-align: right;\n",
       "    }\n",
       "</style>\n",
       "<table border=\"1\" class=\"dataframe\">\n",
       "  <thead>\n",
       "    <tr style=\"text-align: right;\">\n",
       "      <th></th>\n",
       "      <th>date</th>\n",
       "      <th>symbol</th>\n",
       "      <th>open</th>\n",
       "      <th>high</th>\n",
       "      <th>low</th>\n",
       "      <th>close</th>\n",
       "      <th>volume</th>\n",
       "    </tr>\n",
       "  </thead>\n",
       "  <tbody>\n",
       "    <tr>\n",
       "      <th>0</th>\n",
       "      <td>2014-01-02</td>\n",
       "      <td>-1.727913</td>\n",
       "      <td>-0.603945</td>\n",
       "      <td>-0.599276</td>\n",
       "      <td>-0.601496</td>\n",
       "      <td>-0.601239</td>\n",
       "      <td>0.576440</td>\n",
       "    </tr>\n",
       "    <tr>\n",
       "      <th>1</th>\n",
       "      <td>2014-01-02</td>\n",
       "      <td>-1.714198</td>\n",
       "      <td>-0.068685</td>\n",
       "      <td>-0.073863</td>\n",
       "      <td>-0.066544</td>\n",
       "      <td>-0.072439</td>\n",
       "      <td>6.625058</td>\n",
       "    </tr>\n",
       "    <tr>\n",
       "      <th>2</th>\n",
       "      <td>2014-01-02</td>\n",
       "      <td>-1.721055</td>\n",
       "      <td>0.236599</td>\n",
       "      <td>0.241884</td>\n",
       "      <td>0.236030</td>\n",
       "      <td>0.230318</td>\n",
       "      <td>-0.450782</td>\n",
       "    </tr>\n",
       "    <tr>\n",
       "      <th>3</th>\n",
       "      <td>2014-01-02</td>\n",
       "      <td>-1.707341</td>\n",
       "      <td>-0.337363</td>\n",
       "      <td>-0.340164</td>\n",
       "      <td>-0.338396</td>\n",
       "      <td>-0.338901</td>\n",
       "      <td>0.038319</td>\n",
       "    </tr>\n",
       "    <tr>\n",
       "      <th>4</th>\n",
       "      <td>2014-01-02</td>\n",
       "      <td>-1.700483</td>\n",
       "      <td>-0.160070</td>\n",
       "      <td>-0.165207</td>\n",
       "      <td>-0.159814</td>\n",
       "      <td>-0.162400</td>\n",
       "      <td>-0.377207</td>\n",
       "    </tr>\n",
       "  </tbody>\n",
       "</table>\n",
       "</div>"
      ],
      "text/plain": [
       "         date    symbol      open      high       low     close    volume\n",
       "0  2014-01-02 -1.727913 -0.603945 -0.599276 -0.601496 -0.601239  0.576440\n",
       "1  2014-01-02 -1.714198 -0.068685 -0.073863 -0.066544 -0.072439  6.625058\n",
       "2  2014-01-02 -1.721055  0.236599  0.241884  0.236030  0.230318 -0.450782\n",
       "3  2014-01-02 -1.707341 -0.337363 -0.340164 -0.338396 -0.338901  0.038319\n",
       "4  2014-01-02 -1.700483 -0.160070 -0.165207 -0.159814 -0.162400 -0.377207"
      ]
     },
     "execution_count": 60,
     "metadata": {},
     "output_type": "execute_result"
    }
   ],
   "source": [
    "a_last.head()"
   ]
  },
  {
   "cell_type": "markdown",
   "id": "0e3507ba-615b-4b52-b0bb-d92d92197444",
   "metadata": {},
   "source": [
    "### 10. Final Verification"
   ]
  },
  {
   "cell_type": "code",
   "execution_count": 64,
   "id": "fc4efb3d-bb2d-4f68-b9ec-6a987b4b3af5",
   "metadata": {},
   "outputs": [
    {
     "name": "stdout",
     "output_type": "stream",
     "text": [
      "              date    symbol      open      high       low     close    volume\n",
      "0       2014-01-02 -1.727913 -0.603945 -0.599276 -0.601496 -0.601239  0.576440\n",
      "1       2014-01-02 -1.714198 -0.068685 -0.073863 -0.066544 -0.072439  6.625058\n",
      "2       2014-01-02 -1.721055  0.236599  0.241884  0.236030  0.230318 -0.450782\n",
      "3       2014-01-02 -1.707341 -0.337363 -0.340164 -0.338396 -0.338901  0.038319\n",
      "4       2014-01-02 -1.700483 -0.160070 -0.165207 -0.159814 -0.162400 -0.377207\n",
      "...            ...       ...       ...       ...       ...       ...       ...\n",
      "497467  2017-12-29  1.693863 -0.175641 -0.179184 -0.175325 -0.179055 -0.389563\n",
      "497468  2017-12-29  1.700720 -0.036585 -0.043227 -0.039400 -0.046900 -0.353007\n",
      "497469  2017-12-29  1.707578  0.348849  0.340309  0.348688  0.338032 -0.392363\n",
      "497470  2017-12-29  1.714435 -0.345642 -0.347788 -0.345455 -0.350234 -0.363417\n",
      "497471  2017-12-29  1.721292 -0.136023 -0.140479 -0.134359 -0.141212 -0.309700\n",
      "\n",
      "[497472 rows x 7 columns]\n"
     ]
    }
   ],
   "source": [
    "print(a_last)"
   ]
  },
  {
   "cell_type": "code",
   "execution_count": 66,
   "id": "f8e3cf3a-d94d-4ca0-ba5f-4c15b9600b5f",
   "metadata": {},
   "outputs": [],
   "source": [
    "a_last.to_csv(\"Cleaned Stock Price Dataset.csv\",index=False)"
   ]
  },
  {
   "cell_type": "code",
   "execution_count": null,
   "id": "a52e8d73-050f-497c-a613-483cca70692a",
   "metadata": {},
   "outputs": [],
   "source": []
  }
 ],
 "metadata": {
  "kernelspec": {
   "display_name": "Python [conda env:base] *",
   "language": "python",
   "name": "conda-base-py"
  },
  "language_info": {
   "codemirror_mode": {
    "name": "ipython",
    "version": 3
   },
   "file_extension": ".py",
   "mimetype": "text/x-python",
   "name": "python",
   "nbconvert_exporter": "python",
   "pygments_lexer": "ipython3",
   "version": "3.12.7"
  }
 },
 "nbformat": 4,
 "nbformat_minor": 5
}
